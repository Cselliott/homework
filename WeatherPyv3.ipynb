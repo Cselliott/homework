{
 "cells": [
  {
   "cell_type": "code",
   "execution_count": null,
   "metadata": {},
   "outputs": [],
   "source": [
    "# Latitude would appear to be useful in only predicting temperature. According to the charts there isn't a relationship with \n",
    "# humidity, cloudiness, or wind speed in a city.\n",
    "\n",
    "# An interesting observation is that temperature vs latitude plot shows temperatures \n",
    "# become higher as you get just north of the equator around the 20 degree mark.  Which is also where three \n",
    "# deserts are located as well. \"North American, Saharan, Arabian Deserts\"\n",
    "\n",
    "# The data also suggests that there are more cities in the northern hemisphere vs. the southern."
   ]
  },
  {
   "cell_type": "code",
   "execution_count": null,
   "metadata": {},
   "outputs": [],
   "source": [
    "# Dependencies and Setup\n",
    "import matplotlib.pyplot as plt\n",
    "import pandas as pd\n",
    "import numpy as np\n",
    "import requests\n",
    "import time\n",
    "api_key = \"9a3d8652577227436fbb207b1af2c79b\"\n",
    "\n",
    "# Incorporated citipy to determine city based on latitude and longitude\n",
    "from citipy import citipy\n",
    "\n",
    "# Output File (CSV)\n",
    "output_data_file = \"cities.csv\"\n",
    "\n",
    "# Range of latitudes and longitudes\n",
    "# lat_range = (-90, 90)\n",
    "# lng_range = (-180, 180)"
   ]
  },
  {
   "cell_type": "code",
   "execution_count": null,
   "metadata": {},
   "outputs": [],
   "source": [
    "# List for holding lat_lngs and cities\n",
    "lat_lngs = []\n",
    "cities = []\n",
    "\n",
    "# Create a set of random lat and lng combinations\n",
    "lats = np.random.uniform(low=-90.000, high=90.000, size=1500)\n",
    "lngs = np.random.uniform(low=-180.000, high=180.000, size=1500)\n",
    "lat_lngs = zip(lats, lngs)\n",
    "\n",
    "# Nearest city per lat, lng combination\n",
    "for lat_lng in lat_lngs:\n",
    "    city = citipy.nearest_city(lat_lng[0], lat_lng[1]).city_name\n",
    "    \n",
    "    # Create url   \n",
    "    city = city.replace(\" \", \"%20\")\n",
    "    \n",
    "    # Add to cities list\n",
    "    if city not in cities:\n",
    "        cities.append(city)\n",
    "\n",
    "# Print the city count to confirm sufficient count\n",
    "len(cities)"
   ]
  },
  {
   "cell_type": "code",
   "execution_count": null,
   "metadata": {},
   "outputs": [],
   "source": [
    "# Starting URL for API call\n",
    "url = \"http://api.openweathermap.org/data/2.5/weather?units=Imperial&APPID=\" + api_key\n",
    "# url"
   ]
  },
  {
   "cell_type": "code",
   "execution_count": null,
   "metadata": {},
   "outputs": [],
   "source": [
    "city_name = []\n",
    "cloudiness = []\n",
    "country = [] \n",
    "date = []\n",
    "humidity = []\n",
    "lat = []\n",
    "lng = []\n",
    "max_temp = []\n",
    "wind_speed = []\n",
    "\n",
    "# Counter \n",
    "count = 1\n",
    "\n",
    "print(f\"Connecting to OpenWeatherMap API\")\n",
    "print(f\"===================================\")\n",
    "\n",
    "# Loop list\n",
    "for city in cities:  \n",
    "    \n",
    "    try: \n",
    "        response = requests.get(f\"{url}&q={city}\").json() \n",
    "        city_name.append(response[\"name\"])\n",
    "        cloudiness.append(response[\"clouds\"][\"all\"])\n",
    "        country.append(response[\"sys\"][\"country\"])\n",
    "        date.append(response[\"dt\"])\n",
    "        humidity.append(response[\"main\"][\"humidity\"])\n",
    "        max_temp.append(response[\"main\"][\"temp_max\"])\n",
    "        lat.append(response[\"coord\"][\"lat\"])\n",
    "        lng.append(response[\"coord\"][\"lon\"])\n",
    "        wind_speed.append(response[\"wind\"][\"speed\"])\n",
    "        city_count = response[\"name\"]\n",
    "        print(f\"Processing Record {count} | {city_count}\")\n",
    "        print(f\"{url}&q={city}\")\n",
    "        \n",
    "        # Counter\n",
    "        count= count + 1\n",
    "        time.sleep(1.01)\n",
    "        \n",
    "    # Skip\n",
    "    except:\n",
    "        print(\"No match found. Skipping to next city.\")\n",
    "    continue"
   ]
  },
  {
   "cell_type": "code",
   "execution_count": null,
   "metadata": {},
   "outputs": [],
   "source": [
    "weatherpy_dictionary = {\n",
    "    \"City\": city_name,\n",
    "    \"Cloudiness\":cloudiness, \n",
    "    \"Country\":country,\n",
    "    \"Date\":date, \n",
    "    \"Humidity\": humidity,\n",
    "    \"Lat\":lat, \n",
    "    \"Lng\":lng, \n",
    "    \"Max Temp\": max_temp,\n",
    "    \"Wind Speed\":wind_speed\n",
    "}\n",
    "\n",
    "# Create df \n",
    "weather_df = pd.DataFrame(weatherpy_dictionary)\n",
    "weather_df.count()"
   ]
  },
  {
   "cell_type": "code",
   "execution_count": null,
   "metadata": {},
   "outputs": [],
   "source": [
    "# Save data \n",
    "weather_df.to_csv('weather_df.csv')\n",
    "weather_df.head()"
   ]
  },
  {
   "cell_type": "code",
   "execution_count": null,
   "metadata": {},
   "outputs": [],
   "source": [
    "# Lat vs. temp\n",
    "plt.scatter(weather_df[\"Lat\"], weather_df[\"Max Temp\"], marker=\"o\", s=10)\n",
    "plt.title(\"City Latitude vs. Max Temperature\")\n",
    "plt.ylabel(\"Max Temperature (F)\")\n",
    "plt.xlabel(\"Latitude\")\n",
    "plt.grid(True)\n",
    "\n",
    "plt.savefig(\"MaxTemp_v_Latitude.png\")\n",
    "plt.show()"
   ]
  },
  {
   "cell_type": "code",
   "execution_count": null,
   "metadata": {},
   "outputs": [],
   "source": [
    "# Lat vs. humidity\n",
    "plt.scatter(weather_df[\"Lat\"], weather_df[\"Humidity\"], marker=\"o\", s=10)\n",
    "plt.title(\"City Latitude vs. Humidity\")\n",
    "plt.ylabel(\"Humidity (%)\")\n",
    "plt.xlabel(\"Latitude\")\n",
    "plt.grid(True)\n",
    "\n",
    "plt.savefig(\"Humidity_v_Latitude.png\")\n",
    "plt.show()"
   ]
  },
  {
   "cell_type": "code",
   "execution_count": null,
   "metadata": {},
   "outputs": [],
   "source": [
    "# Lat vs. cloudiness\n",
    "plt.scatter(weather_df[\"Lat\"], weather_df[\"Cloudiness\"], marker=\"o\", s=10)\n",
    "plt.title(\"City Latitude vs. Cloudiness\")\n",
    "plt.ylabel(\"Cloudiness (%)\")\n",
    "plt.xlabel(\"Latitude\")\n",
    "plt.grid(True)\n",
    "\n",
    "plt.savefig(\"Cloudiness_v_Latitude.png\")\n",
    "plt.show()"
   ]
  },
  {
   "cell_type": "code",
   "execution_count": null,
   "metadata": {},
   "outputs": [],
   "source": [
    "# Lat vs. windspeed\n",
    "plt.scatter(weather_df[\"Lat\"], weather_df[\"Wind Speed\"], marker=\"o\", s=10)\n",
    "plt.title(\"City Latitude vs. Wind Speed\")\n",
    "plt.ylabel(\"Wind Speed (mph)\")\n",
    "plt.xlabel(\"Latitude\")\n",
    "plt.grid(True)\n",
    "\n",
    "plt.savefig(\"WindSpeed_v_Latitude.png\")\n",
    "plt.show()"
   ]
  }
 ],
 "metadata": {
  "kernelspec": {
   "display_name": "Python 3",
   "language": "python",
   "name": "python3"
  },
  "language_info": {
   "codemirror_mode": {
    "name": "ipython",
    "version": 3
   },
   "file_extension": ".py",
   "mimetype": "text/x-python",
   "name": "python",
   "nbconvert_exporter": "python",
   "pygments_lexer": "ipython3",
   "version": "3.7.3"
  }
 },
 "nbformat": 4,
 "nbformat_minor": 2
}
